{
 "cells": [
  {
   "cell_type": "code",
   "execution_count": 1,
   "metadata": {},
   "outputs": [],
   "source": [
    "import pandas as pd\n",
    "from IPython import display"
   ]
  },
  {
   "cell_type": "code",
   "execution_count": 2,
   "metadata": {},
   "outputs": [],
   "source": [
    "df = pd.read_csv(\"my_new_scrape_file.csv\") #File got from scrape_data.py"
   ]
  },
  {
   "cell_type": "code",
   "execution_count": 3,
   "metadata": {},
   "outputs": [
    {
     "data": {
      "text/plain": [
       "(2582, 7)"
      ]
     },
     "execution_count": 3,
     "metadata": {},
     "output_type": "execute_result"
    }
   ],
   "source": [
    "df.shape"
   ]
  },
  {
   "cell_type": "code",
   "execution_count": 4,
   "metadata": {},
   "outputs": [
    {
     "data": {
      "text/html": [
       "<div>\n",
       "<style scoped>\n",
       "    .dataframe tbody tr th:only-of-type {\n",
       "        vertical-align: middle;\n",
       "    }\n",
       "\n",
       "    .dataframe tbody tr th {\n",
       "        vertical-align: top;\n",
       "    }\n",
       "\n",
       "    .dataframe thead th {\n",
       "        text-align: right;\n",
       "    }\n",
       "</style>\n",
       "<table border=\"1\" class=\"dataframe\">\n",
       "  <thead>\n",
       "    <tr style=\"text-align: right;\">\n",
       "      <th></th>\n",
       "      <th>Unnamed: 0</th>\n",
       "      <th>house_type</th>\n",
       "      <th>bedroom</th>\n",
       "      <th>bathroom</th>\n",
       "      <th>price</th>\n",
       "      <th>all_info</th>\n",
       "      <th>info_text</th>\n",
       "    </tr>\n",
       "  </thead>\n",
       "  <tbody>\n",
       "    <tr>\n",
       "      <th>0</th>\n",
       "      <td>0</td>\n",
       "      <td>Basement</td>\n",
       "      <td>Bedrooms: 2</td>\n",
       "      <td>Bathrooms: 1</td>\n",
       "      <td>$1,400</td>\n",
       "      <td>&lt;div class=\"gradientScrollContainer-3063824911...</td>\n",
       "      <td>Overview\\nUtilities Included\\nHydro\\nHeat\\nWat...</td>\n",
       "    </tr>\n",
       "    <tr>\n",
       "      <th>1</th>\n",
       "      <td>1</td>\n",
       "      <td>Apartment</td>\n",
       "      <td>Bedrooms: 2</td>\n",
       "      <td>Bathrooms: 2</td>\n",
       "      <td>$2,395</td>\n",
       "      <td>&lt;div class=\"gradientScrollContainer-3063824911...</td>\n",
       "      <td>Overview\\nUtilities Included\\nNot Included\\nWi...</td>\n",
       "    </tr>\n",
       "    <tr>\n",
       "      <th>2</th>\n",
       "      <td>2</td>\n",
       "      <td>Condo</td>\n",
       "      <td>Bedrooms: 2</td>\n",
       "      <td>Bathrooms: 2</td>\n",
       "      <td>$3,300</td>\n",
       "      <td>&lt;div class=\"gradientScrollContainer-3063824911...</td>\n",
       "      <td>Overview\\nUtilities Included\\nHydro\\nHeat\\nWat...</td>\n",
       "    </tr>\n",
       "    <tr>\n",
       "      <th>3</th>\n",
       "      <td>3</td>\n",
       "      <td>Condo</td>\n",
       "      <td>Bedrooms: 2</td>\n",
       "      <td>Bathrooms: 2.5</td>\n",
       "      <td>$2,100</td>\n",
       "      <td>&lt;div class=\"gradientScrollContainer-3063824911...</td>\n",
       "      <td>Overview\\nUtilities Included\\nHydro\\nHeat\\nWat...</td>\n",
       "    </tr>\n",
       "    <tr>\n",
       "      <th>4</th>\n",
       "      <td>4</td>\n",
       "      <td>Townhouse</td>\n",
       "      <td>Bedrooms: 3</td>\n",
       "      <td>Bathrooms: 2.5</td>\n",
       "      <td>$2,499</td>\n",
       "      <td>&lt;div class=\"gradientScrollContainer-3063824911...</td>\n",
       "      <td>Overview\\nUtilities Included\\nHydro\\nHeat\\nWat...</td>\n",
       "    </tr>\n",
       "  </tbody>\n",
       "</table>\n",
       "</div>"
      ],
      "text/plain": [
       "   Unnamed: 0 house_type      bedroom        bathroom   price  \\\n",
       "0           0   Basement  Bedrooms: 2    Bathrooms: 1  $1,400   \n",
       "1           1  Apartment  Bedrooms: 2    Bathrooms: 2  $2,395   \n",
       "2           2      Condo  Bedrooms: 2    Bathrooms: 2  $3,300   \n",
       "3           3      Condo  Bedrooms: 2  Bathrooms: 2.5  $2,100   \n",
       "4           4  Townhouse  Bedrooms: 3  Bathrooms: 2.5  $2,499   \n",
       "\n",
       "                                            all_info  \\\n",
       "0  <div class=\"gradientScrollContainer-3063824911...   \n",
       "1  <div class=\"gradientScrollContainer-3063824911...   \n",
       "2  <div class=\"gradientScrollContainer-3063824911...   \n",
       "3  <div class=\"gradientScrollContainer-3063824911...   \n",
       "4  <div class=\"gradientScrollContainer-3063824911...   \n",
       "\n",
       "                                           info_text  \n",
       "0  Overview\\nUtilities Included\\nHydro\\nHeat\\nWat...  \n",
       "1  Overview\\nUtilities Included\\nNot Included\\nWi...  \n",
       "2  Overview\\nUtilities Included\\nHydro\\nHeat\\nWat...  \n",
       "3  Overview\\nUtilities Included\\nHydro\\nHeat\\nWat...  \n",
       "4  Overview\\nUtilities Included\\nHydro\\nHeat\\nWat...  "
      ]
     },
     "execution_count": 4,
     "metadata": {},
     "output_type": "execute_result"
    }
   ],
   "source": [
    "df.head()"
   ]
  },
  {
   "cell_type": "code",
   "execution_count": 5,
   "metadata": {},
   "outputs": [],
   "source": [
    "#Checking eror links\n",
    "def find_eror(x):\n",
    "    if x[0]=='<':\n",
    "        return x\n",
    "    else:\n",
    "        return \"Fail\""
   ]
  },
  {
   "cell_type": "code",
   "execution_count": 6,
   "metadata": {},
   "outputs": [],
   "source": [
    "df[\"test\"] = df[\"all_info\"].apply(lambda x: find_eror(x))"
   ]
  },
  {
   "cell_type": "code",
   "execution_count": 7,
   "metadata": {},
   "outputs": [],
   "source": [
    "df2 = df[df[\"test\"]!=\"Fail\"] # just dropping it"
   ]
  },
  {
   "cell_type": "markdown",
   "metadata": {},
   "source": [
    "## After checking fails i get answer that links were error we will drop that section 253 eror was we have 2572 data its not going to affect to much"
   ]
  },
  {
   "cell_type": "code",
   "execution_count": 8,
   "metadata": {},
   "outputs": [
    {
     "name": "stderr",
     "output_type": "stream",
     "text": [
      "/home/tural/.local/lib/python3.8/site-packages/pandas/core/frame.py:4901: SettingWithCopyWarning: \n",
      "A value is trying to be set on a copy of a slice from a DataFrame\n",
      "\n",
      "See the caveats in the documentation: https://pandas.pydata.org/pandas-docs/stable/user_guide/indexing.html#returning-a-view-versus-a-copy\n",
      "  return super().drop(\n"
     ]
    }
   ],
   "source": [
    "df2.drop('test',axis=1,inplace=True)"
   ]
  },
  {
   "cell_type": "code",
   "execution_count": 9,
   "metadata": {},
   "outputs": [
    {
     "data": {
      "text/html": [
       "<div>\n",
       "<style scoped>\n",
       "    .dataframe tbody tr th:only-of-type {\n",
       "        vertical-align: middle;\n",
       "    }\n",
       "\n",
       "    .dataframe tbody tr th {\n",
       "        vertical-align: top;\n",
       "    }\n",
       "\n",
       "    .dataframe thead th {\n",
       "        text-align: right;\n",
       "    }\n",
       "</style>\n",
       "<table border=\"1\" class=\"dataframe\">\n",
       "  <thead>\n",
       "    <tr style=\"text-align: right;\">\n",
       "      <th></th>\n",
       "      <th>Unnamed: 0</th>\n",
       "      <th>house_type</th>\n",
       "      <th>bedroom</th>\n",
       "      <th>bathroom</th>\n",
       "      <th>price</th>\n",
       "      <th>all_info</th>\n",
       "      <th>info_text</th>\n",
       "    </tr>\n",
       "  </thead>\n",
       "  <tbody>\n",
       "    <tr>\n",
       "      <th>0</th>\n",
       "      <td>0</td>\n",
       "      <td>Basement</td>\n",
       "      <td>Bedrooms: 2</td>\n",
       "      <td>Bathrooms: 1</td>\n",
       "      <td>$1,400</td>\n",
       "      <td>&lt;div class=\"gradientScrollContainer-3063824911...</td>\n",
       "      <td>Overview\\nUtilities Included\\nHydro\\nHeat\\nWat...</td>\n",
       "    </tr>\n",
       "    <tr>\n",
       "      <th>1</th>\n",
       "      <td>1</td>\n",
       "      <td>Apartment</td>\n",
       "      <td>Bedrooms: 2</td>\n",
       "      <td>Bathrooms: 2</td>\n",
       "      <td>$2,395</td>\n",
       "      <td>&lt;div class=\"gradientScrollContainer-3063824911...</td>\n",
       "      <td>Overview\\nUtilities Included\\nNot Included\\nWi...</td>\n",
       "    </tr>\n",
       "    <tr>\n",
       "      <th>2</th>\n",
       "      <td>2</td>\n",
       "      <td>Condo</td>\n",
       "      <td>Bedrooms: 2</td>\n",
       "      <td>Bathrooms: 2</td>\n",
       "      <td>$3,300</td>\n",
       "      <td>&lt;div class=\"gradientScrollContainer-3063824911...</td>\n",
       "      <td>Overview\\nUtilities Included\\nHydro\\nHeat\\nWat...</td>\n",
       "    </tr>\n",
       "    <tr>\n",
       "      <th>3</th>\n",
       "      <td>3</td>\n",
       "      <td>Condo</td>\n",
       "      <td>Bedrooms: 2</td>\n",
       "      <td>Bathrooms: 2.5</td>\n",
       "      <td>$2,100</td>\n",
       "      <td>&lt;div class=\"gradientScrollContainer-3063824911...</td>\n",
       "      <td>Overview\\nUtilities Included\\nHydro\\nHeat\\nWat...</td>\n",
       "    </tr>\n",
       "    <tr>\n",
       "      <th>4</th>\n",
       "      <td>4</td>\n",
       "      <td>Townhouse</td>\n",
       "      <td>Bedrooms: 3</td>\n",
       "      <td>Bathrooms: 2.5</td>\n",
       "      <td>$2,499</td>\n",
       "      <td>&lt;div class=\"gradientScrollContainer-3063824911...</td>\n",
       "      <td>Overview\\nUtilities Included\\nHydro\\nHeat\\nWat...</td>\n",
       "    </tr>\n",
       "  </tbody>\n",
       "</table>\n",
       "</div>"
      ],
      "text/plain": [
       "   Unnamed: 0 house_type      bedroom        bathroom   price  \\\n",
       "0           0   Basement  Bedrooms: 2    Bathrooms: 1  $1,400   \n",
       "1           1  Apartment  Bedrooms: 2    Bathrooms: 2  $2,395   \n",
       "2           2      Condo  Bedrooms: 2    Bathrooms: 2  $3,300   \n",
       "3           3      Condo  Bedrooms: 2  Bathrooms: 2.5  $2,100   \n",
       "4           4  Townhouse  Bedrooms: 3  Bathrooms: 2.5  $2,499   \n",
       "\n",
       "                                            all_info  \\\n",
       "0  <div class=\"gradientScrollContainer-3063824911...   \n",
       "1  <div class=\"gradientScrollContainer-3063824911...   \n",
       "2  <div class=\"gradientScrollContainer-3063824911...   \n",
       "3  <div class=\"gradientScrollContainer-3063824911...   \n",
       "4  <div class=\"gradientScrollContainer-3063824911...   \n",
       "\n",
       "                                           info_text  \n",
       "0  Overview\\nUtilities Included\\nHydro\\nHeat\\nWat...  \n",
       "1  Overview\\nUtilities Included\\nNot Included\\nWi...  \n",
       "2  Overview\\nUtilities Included\\nHydro\\nHeat\\nWat...  \n",
       "3  Overview\\nUtilities Included\\nHydro\\nHeat\\nWat...  \n",
       "4  Overview\\nUtilities Included\\nHydro\\nHeat\\nWat...  "
      ]
     },
     "execution_count": 9,
     "metadata": {},
     "output_type": "execute_result"
    }
   ],
   "source": [
    "df2.head()"
   ]
  },
  {
   "cell_type": "code",
   "execution_count": 10,
   "metadata": {},
   "outputs": [],
   "source": [
    "#finding hydro,heat,water I decided to take html content than scrape it (for that reason i got all_info) beacouse \n",
    "# it was so hart to take included or not "
   ]
  },
  {
   "cell_type": "code",
   "execution_count": 11,
   "metadata": {},
   "outputs": [
    {
     "data": {
      "image/png": "[encoded data removed]",
      "text/plain": [
       "<IPython.core.display.Image object>"
      ]
     },
     "execution_count": 11,
     "metadata": {},
     "output_type": "execute_result"
    }
   ],
   "source": [
    "display.Image(\"explt_scrp.png\")"
   ]
  },
  {
   "cell_type": "code",
   "execution_count": 12,
   "metadata": {},
   "outputs": [],
   "source": [
    "def hydro(x):\n",
    "    index_result = x.find(\"Hydro\")\n",
    "    val = index_result - 4\n",
    "    result = x[val]\n",
    "    if index_result==-1:\n",
    "        return \"Not Included\"\n",
    "    elif result==\"e\":\n",
    "        return \"Yes\"\n",
    "    elif result==\"N\":\n",
    "        return \"No\"\n",
    "def heat(x):\n",
    "    index_result = x.find(\"Heat\")\n",
    "    val = index_result - 4\n",
    "    result = x[val]\n",
    "    if index_result==-1:\n",
    "        return \"Not Included\"\n",
    "    elif result==\"e\":\n",
    "        return \"Yes\"\n",
    "    elif result==\"N\":\n",
    "        return \"No\"\n",
    "def water(x):\n",
    "    index_result = x.find(\"Water\")\n",
    "    val = index_result - 4\n",
    "    result = x[val]\n",
    "    if index_result==-1:\n",
    "        return \"Not Included\"\n",
    "    elif result==\"e\":\n",
    "        return \"Yes\"\n",
    "    elif result==\"N\":\n",
    "        return \"No\""
   ]
  },
  {
   "cell_type": "code",
   "execution_count": 13,
   "metadata": {},
   "outputs": [
    {
     "data": {
      "text/plain": [
       "'Not Included'"
      ]
     },
     "execution_count": 13,
     "metadata": {},
     "output_type": "execute_result"
    }
   ],
   "source": [
    "water(df2[\"all_info\"][300])"
   ]
  },
  {
   "cell_type": "code",
   "execution_count": 14,
   "metadata": {},
   "outputs": [],
   "source": [
    "test = df2[\"all_info\"][0]"
   ]
  },
  {
   "cell_type": "code",
   "execution_count": 15,
   "metadata": {},
   "outputs": [
    {
     "name": "stderr",
     "output_type": "stream",
     "text": [
      "/home/tural/.local/lib/python3.8/site-packages/pandas/core/frame.py:3607: SettingWithCopyWarning: \n",
      "A value is trying to be set on a copy of a slice from a DataFrame.\n",
      "Try using .loc[row_indexer,col_indexer] = value instead\n",
      "\n",
      "See the caveats in the documentation: https://pandas.pydata.org/pandas-docs/stable/user_guide/indexing.html#returning-a-view-versus-a-copy\n",
      "  self._set_item(key, value)\n"
     ]
    }
   ],
   "source": [
    "df2[\"Hydro\"] = df2[\"all_info\"].apply(lambda x: hydro(x))"
   ]
  },
  {
   "cell_type": "code",
   "execution_count": 16,
   "metadata": {},
   "outputs": [],
   "source": [
    "df2[\"Water\"] = df2[\"all_info\"].apply(lambda x: water(x))\n",
    "df2[\"Heat\"] = df2[\"all_info\"].apply(lambda x: heat(x))"
   ]
  },
  {
   "cell_type": "code",
   "execution_count": 17,
   "metadata": {},
   "outputs": [],
   "source": [
    "df3 = df2.drop(\"all_info\",axis=1)"
   ]
  },
  {
   "cell_type": "code",
   "execution_count": 18,
   "metadata": {},
   "outputs": [],
   "source": [
    "def wifi_more(x):\n",
    "    contetn = str(x).split(\"\\n\")\n",
    "    a = contetn.index('Wi-Fi and More') +1\n",
    "    b = contetn.index('Parking Included')\n",
    "    return contetn[a:b]"
   ]
  },
  {
   "cell_type": "code",
   "execution_count": 19,
   "metadata": {},
   "outputs": [],
   "source": [
    "def size(x):\n",
    "    find_size = str(x).split(\"\\n\")\n",
    "    s =find_size.index(\"Size (sqft)\") +1\n",
    "    return find_size[s]"
   ]
  },
  {
   "cell_type": "code",
   "execution_count": 20,
   "metadata": {},
   "outputs": [],
   "source": [
    "def parking(x):\n",
    "    find_parking = str(x).split(\"\\n\")\n",
    "    p = find_parking.index(\"Parking Included\") +1\n",
    "    return find_parking[p]"
   ]
  },
  {
   "cell_type": "code",
   "execution_count": 21,
   "metadata": {},
   "outputs": [],
   "source": [
    "def pet_friend(x):\n",
    "    find_pet = str(x).split(\"\\n\")\n",
    "    pt = find_pet.index(\"Pet Friendly\") +1\n",
    "    return find_pet[pt]"
   ]
  },
  {
   "cell_type": "code",
   "execution_count": 22,
   "metadata": {},
   "outputs": [],
   "source": [
    "def furnished(x):\n",
    "    find_furnished = str(x).split(\"\\n\")\n",
    "    fn = find_furnished.index(\"Furnished\") +1\n",
    "    return find_furnished[fn]"
   ]
  },
  {
   "cell_type": "code",
   "execution_count": 23,
   "metadata": {},
   "outputs": [],
   "source": [
    "def appliances(x):\n",
    "    find_appliances = str(x).split(\"\\n\")\n",
    "    fa = find_appliances.index(\"Appliances\") +1\n",
    "    fa_end = find_appliances.index(\"Air Conditioning\")\n",
    "    return find_appliances[fa:fa_end]"
   ]
  },
  {
   "cell_type": "code",
   "execution_count": 24,
   "metadata": {},
   "outputs": [],
   "source": [
    "def a_c(x):\n",
    "    a_Conditioning = str(x).split(\"\\n\")\n",
    "    a_CC = a_Conditioning.index(\"Air Conditioning\") +1\n",
    "    return a_Conditioning[a_CC]"
   ]
  },
  {
   "cell_type": "code",
   "execution_count": 25,
   "metadata": {},
   "outputs": [],
   "source": [
    "def autdoor_space(x):\n",
    "    out_door = str(x).split(\"\\n\")\n",
    "    out = out_door.index(\"Personal Outdoor Space\") +1\n",
    "    return out_door[out]"
   ]
  },
  {
   "cell_type": "code",
   "execution_count": 26,
   "metadata": {},
   "outputs": [],
   "source": [
    "def smoking(x):\n",
    "    smoke = str(x).split(\"\\n\")\n",
    "    sm = smoke.index(\"Smoking Permitted\") +1\n",
    "    return smoke[sm]"
   ]
  },
  {
   "cell_type": "code",
   "execution_count": 27,
   "metadata": {},
   "outputs": [
    {
     "data": {
      "text/plain": [
       "Unnamed: 0    0\n",
       "house_type    0\n",
       "bedroom       0\n",
       "bathroom      0\n",
       "price         0\n",
       "info_text     1\n",
       "Hydro         0\n",
       "Water         0\n",
       "Heat          0\n",
       "dtype: int64"
      ]
     },
     "execution_count": 27,
     "metadata": {},
     "output_type": "execute_result"
    }
   ],
   "source": [
    "# lets check mising values if something wrong we will be see\n",
    "df3.isnull().sum()"
   ]
  },
  {
   "cell_type": "code",
   "execution_count": 28,
   "metadata": {},
   "outputs": [],
   "source": [
    "#only one parametr was missing in info text im not going to ckeck it its to low for ckeck im justr dropping and \n",
    "# continue\n",
    "df3.dropna(inplace=True)"
   ]
  },
  {
   "cell_type": "code",
   "execution_count": 29,
   "metadata": {},
   "outputs": [],
   "source": [
    "df3[\"smoke\"] = df3[\"info_text\"].apply(lambda x: smoking(x))\n",
    "df3[\"outdor_space\"] = df3[\"info_text\"].apply(lambda x: autdoor_space(x))\n",
    "df3[\"air_conditioning\"] = df3[\"info_text\"].apply(lambda x: a_c(x))\n",
    "df3[\"appliances\"] = df3[\"info_text\"].apply(lambda x: appliances(x))\n",
    "df3[\"furnished\"] = df3[\"info_text\"].apply(lambda x: furnished(x))\n",
    "df3[\"pet_friendly\"] = df3[\"info_text\"].apply(lambda x: pet_friend(x))\n",
    "df3[\"parking\"] = df3[\"info_text\"].apply(lambda x: parking(x))\n",
    "df3[\"size_S/Q\"] = df3[\"info_text\"].apply(lambda x: size(x))\n",
    "df3[\"wifi_more\"] = df3[\"info_text\"].apply(lambda x: wifi_more(x))"
   ]
  },
  {
   "cell_type": "code",
   "execution_count": 39,
   "metadata": {},
   "outputs": [],
   "source": [
    "# making more clean bathroom columns\n",
    "df3[\"Bathrooms\"] = df3[\"bathroom\"].apply(lambda x: x.split(\":\")[1:]) #we dropping Bathrooms trings from each cell"
   ]
  },
  {
   "cell_type": "code",
   "execution_count": 41,
   "metadata": {},
   "outputs": [],
   "source": [
    "# same prosedure applying for bedroom\n",
    "df3[\"Bedrooms\"] = df3[\"bedroom\"].apply(lambda x: x.split(\":\")[1:])"
   ]
  },
  {
   "cell_type": "code",
   "execution_count": 42,
   "metadata": {},
   "outputs": [],
   "source": [
    "#lets drop our dataset some columns and save it for data analysis prosedures "
   ]
  },
  {
   "cell_type": "code",
   "execution_count": 43,
   "metadata": {},
   "outputs": [
    {
     "data": {
      "text/plain": [
       "Index(['Unnamed: 0', 'house_type', 'bedroom', 'bathroom', 'price', 'info_text',\n",
       "       'Hydro', 'Water', 'Heat', 'smoke', 'outdor_space', 'air_conditioning',\n",
       "       'appliances', 'furnished', 'pet_friendly', 'parking', 'size_S/Q',\n",
       "       'wifi_more', 'Bathrooms', 'Bedrooms'],\n",
       "      dtype='object')"
      ]
     },
     "execution_count": 43,
     "metadata": {},
     "output_type": "execute_result"
    }
   ],
   "source": [
    "df3.columns"
   ]
  },
  {
   "cell_type": "code",
   "execution_count": 44,
   "metadata": {},
   "outputs": [],
   "source": [
    "df_end_of = df3.drop([\"Unnamed: 0\",\"bedroom\",\"bathroom\",\"info_text\"],axis=1)"
   ]
  },
  {
   "cell_type": "code",
   "execution_count": 46,
   "metadata": {},
   "outputs": [
    {
     "data": {
      "text/html": [
       "<div>\n",
       "<style scoped>\n",
       "    .dataframe tbody tr th:only-of-type {\n",
       "        vertical-align: middle;\n",
       "    }\n",
       "\n",
       "    .dataframe tbody tr th {\n",
       "        vertical-align: top;\n",
       "    }\n",
       "\n",
       "    .dataframe thead th {\n",
       "        text-align: right;\n",
       "    }\n",
       "</style>\n",
       "<table border=\"1\" class=\"dataframe\">\n",
       "  <thead>\n",
       "    <tr style=\"text-align: right;\">\n",
       "      <th></th>\n",
       "      <th>house_type</th>\n",
       "      <th>price</th>\n",
       "      <th>Hydro</th>\n",
       "      <th>Water</th>\n",
       "      <th>Heat</th>\n",
       "      <th>smoke</th>\n",
       "      <th>outdor_space</th>\n",
       "      <th>air_conditioning</th>\n",
       "      <th>appliances</th>\n",
       "      <th>furnished</th>\n",
       "      <th>pet_friendly</th>\n",
       "      <th>parking</th>\n",
       "      <th>size_S/Q</th>\n",
       "      <th>wifi_more</th>\n",
       "      <th>Bathrooms</th>\n",
       "      <th>Bedrooms</th>\n",
       "    </tr>\n",
       "  </thead>\n",
       "  <tbody>\n",
       "    <tr>\n",
       "      <th>0</th>\n",
       "      <td>Basement</td>\n",
       "      <td>$1,400</td>\n",
       "      <td>Yes</td>\n",
       "      <td>Yes</td>\n",
       "      <td>Yes</td>\n",
       "      <td>No</td>\n",
       "      <td>Yard</td>\n",
       "      <td>No</td>\n",
       "      <td>[Laundry (In Building), Fridge / Freezer]</td>\n",
       "      <td>No</td>\n",
       "      <td>No</td>\n",
       "      <td>1</td>\n",
       "      <td>850</td>\n",
       "      <td>[Cable / TV, Internet]</td>\n",
       "      <td>[ 1]</td>\n",
       "      <td>[ 2]</td>\n",
       "    </tr>\n",
       "    <tr>\n",
       "      <th>1</th>\n",
       "      <td>Apartment</td>\n",
       "      <td>$2,395</td>\n",
       "      <td>Not Included</td>\n",
       "      <td>Not Included</td>\n",
       "      <td>Not Included</td>\n",
       "      <td>Outdoors only</td>\n",
       "      <td>Balcony</td>\n",
       "      <td>No</td>\n",
       "      <td>[Laundry (In Unit), Dishwasher, Fridge / Freezer]</td>\n",
       "      <td>No</td>\n",
       "      <td>Yes</td>\n",
       "      <td>0</td>\n",
       "      <td>793</td>\n",
       "      <td>[Not Included]</td>\n",
       "      <td>[ 2]</td>\n",
       "      <td>[ 2]</td>\n",
       "    </tr>\n",
       "    <tr>\n",
       "      <th>2</th>\n",
       "      <td>Condo</td>\n",
       "      <td>$3,300</td>\n",
       "      <td>No</td>\n",
       "      <td>Yes</td>\n",
       "      <td>No</td>\n",
       "      <td>No</td>\n",
       "      <td>Balcony</td>\n",
       "      <td>No</td>\n",
       "      <td>[Laundry (In Unit), Dishwasher, Fridge / Freezer]</td>\n",
       "      <td>No</td>\n",
       "      <td>Yes</td>\n",
       "      <td>1</td>\n",
       "      <td>898</td>\n",
       "      <td>[Not Included]</td>\n",
       "      <td>[ 2]</td>\n",
       "      <td>[ 2]</td>\n",
       "    </tr>\n",
       "  </tbody>\n",
       "</table>\n",
       "</div>"
      ],
      "text/plain": [
       "  house_type   price         Hydro         Water          Heat          smoke  \\\n",
       "0   Basement  $1,400           Yes           Yes           Yes             No   \n",
       "1  Apartment  $2,395  Not Included  Not Included  Not Included  Outdoors only   \n",
       "2      Condo  $3,300            No           Yes            No             No   \n",
       "\n",
       "  outdor_space air_conditioning  \\\n",
       "0         Yard               No   \n",
       "1      Balcony               No   \n",
       "2      Balcony               No   \n",
       "\n",
       "                                          appliances furnished pet_friendly  \\\n",
       "0          [Laundry (In Building), Fridge / Freezer]        No           No   \n",
       "1  [Laundry (In Unit), Dishwasher, Fridge / Freezer]        No          Yes   \n",
       "2  [Laundry (In Unit), Dishwasher, Fridge / Freezer]        No          Yes   \n",
       "\n",
       "  parking size_S/Q               wifi_more Bathrooms Bedrooms  \n",
       "0       1      850  [Cable / TV, Internet]      [ 1]     [ 2]  \n",
       "1       0      793          [Not Included]      [ 2]     [ 2]  \n",
       "2       1      898          [Not Included]      [ 2]     [ 2]  "
      ]
     },
     "execution_count": 46,
     "metadata": {},
     "output_type": "execute_result"
    }
   ],
   "source": [
    "df_end_of.head(3)"
   ]
  },
  {
   "cell_type": "code",
   "execution_count": 47,
   "metadata": {},
   "outputs": [],
   "source": [
    "df_end_of.to_csv(\"result_scrape_data.csv\")"
   ]
  },
  {
   "cell_type": "code",
   "execution_count": null,
   "metadata": {},
   "outputs": [],
   "source": []
  }
 ],
 "metadata": {
  "kernelspec": {
   "display_name": "Python 3",
   "language": "python",
   "name": "python3"
  },
  "language_info": {
   "codemirror_mode": {
    "name": "ipython",
    "version": 3
   },
   "file_extension": ".py",
   "mimetype": "text/x-python",
   "name": "python",
   "nbconvert_exporter": "python",
   "pygments_lexer": "ipython3",
   "version": "3.8.10"
  }
 },
 "nbformat": 4,
 "nbformat_minor": 4
}
